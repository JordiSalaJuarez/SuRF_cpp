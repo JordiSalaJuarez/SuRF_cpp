{
 "cells": [
  {
   "cell_type": "code",
   "execution_count": 18,
   "metadata": {},
   "outputs": [],
   "source": [
    "import pandas as pd\n"
   ]
  },
  {
   "cell_type": "code",
   "execution_count": 53,
   "metadata": {},
   "outputs": [],
   "source": [
    "files =  \"surf_new.csv\",  \".csv\"\n",
    "df = pd.concat([pd.read_csv(f) for f in files], ignore_index=True)"
   ]
  },
  {
   "cell_type": "code",
   "execution_count": 54,
   "metadata": {},
   "outputs": [],
   "source": [
    "def fix(df):\n",
    "    df[\"workload\"] = df.name.str.split(\"::\").str[2].str[:-1].str.split(\",\").str[0]\n",
    "    df[\"Index\"] = df.name.str.split(\"::\").str[0] \n",
    "    df[\"Kind\"] = df.name.str.split(\"::\").str[1].str.split(\"<\").str[0]\n",
    "    df[\"Time\"] =  df[\"#Keys\"] / df[\"Ops/s\"]\n",
    "    df[\"Bits/Key\"] =  (df[\"Size(B)\"] * 8) / df[\"#Keys\"]\n",
    "    return df"
   ]
  },
  {
   "cell_type": "code",
   "execution_count": 55,
   "metadata": {},
   "outputs": [],
   "source": [
    "df = fix(df)"
   ]
  },
  {
   "cell_type": "code",
   "execution_count": 60,
   "metadata": {},
   "outputs": [
    {
     "name": "stdout",
     "output_type": "stream",
     "text": [
      "\\begin{tabular}{rrll}\n",
      "\\toprule\n",
      "  Bits/Key &     Ops/s & workload & Index \\\\\n",
      "\\midrule\n",
      " 17.872565 & 1340420.0 &      DNA &   FST \\\\\n",
      " 24.378754 &  531606.0 &     WIKI &   FST \\\\\n",
      " 18.934149 & 5651930.0 &      GEO &   FST \\\\\n",
      " 15.342352 & 1279240.0 &  ZIPFIAN &   FST \\\\\n",
      " 20.432751 &  436410.0 &      DNA & louds \\\\\n",
      "  8.400795 & 1031670.0 &      GEO & louds \\\\\n",
      " 87.029840 &  106491.0 &     WIKI & louds \\\\\n",
      "143.654240 &  146800.0 &  ZIPFIAN & louds \\\\\n",
      " 20.432751 &  293304.0 &      DNA & louds \\\\\n",
      "  8.400795 &  455865.0 &      GEO & louds \\\\\n",
      " 87.029840 &   86192.9 &     WIKI & louds \\\\\n",
      "\\bottomrule\n",
      "\\end{tabular}\n",
      "\n"
     ]
    },
    {
     "name": "stderr",
     "output_type": "stream",
     "text": [
      "/tmp/ipykernel_1821/3837967068.py:3: FutureWarning: In future versions `DataFrame.to_latex` is expected to utilise the base implementation of `Styler.to_latex` for formatting and rendering. The arguments signature may therefore change. It is recommended instead to use `DataFrame.style.to_latex` which also contains additional functionality.\n",
      "  print(df.loc[mask, attr].to_latex(index=False))\n"
     ]
    }
   ],
   "source": [
    "mask = (df.Kind == \"point_query\")\n",
    "attr = [\"Bits/Key\", \"Ops/s\",  \"workload\", \"Index\"] # ,  \"Ops/s\",\n",
    "print(df.loc[mask, attr].to_latex(index=False))"
   ]
  },
  {
   "cell_type": "code",
   "execution_count": 36,
   "metadata": {},
   "outputs": [
    {
     "data": {
      "text/plain": [
       "Index(['name', 'iterations', 'real_time', 'cpu_time', 'time_unit',\n",
       "       'bytes_per_second', 'items_per_second', 'label', 'error_occurred',\n",
       "       'error_message', '#Keys', 'Bits', 'Bytes/s', 'FPR', 'InputSize(B)',\n",
       "       'Ops/s', 'Size(B)', 'workload', 'Time'],\n",
       "      dtype='object')"
      ]
     },
     "execution_count": 36,
     "metadata": {},
     "output_type": "execute_result"
    }
   ],
   "source": [
    "df.keys()"
   ]
  },
  {
   "cell_type": "code",
   "execution_count": 41,
   "metadata": {},
   "outputs": [
    {
     "data": {
      "text/plain": [
       "0          build\n",
       "1    point_query\n",
       "2    range_query\n",
       "3          build\n",
       "4    point_query\n",
       "5    range_query\n",
       "6          build\n",
       "7    point_query\n",
       "8    range_query\n",
       "Name: name, dtype: object"
      ]
     },
     "execution_count": 41,
     "metadata": {},
     "output_type": "execute_result"
    }
   ],
   "source": [
    "df.name.str.split(\"::\").str[2].str.split(\"<\").str[0]"
   ]
  },
  {
   "cell_type": "code",
   "execution_count": 73,
   "metadata": {},
   "outputs": [
    {
     "data": {
      "text/plain": [
       "Index(['name', 'iterations', 'real_time', 'cpu_time', 'time_unit',\n",
       "       'bytes_per_second', 'items_per_second', 'label', 'error_occurred',\n",
       "       'error_message', '#Keys', 'Bits', 'Bytes/s', 'FPR', 'InputSize(B)',\n",
       "       'Ops/s', 'Size(B)', 'workload', 'Index', 'Kind', 'Time'],\n",
       "      dtype='object')"
      ]
     },
     "execution_count": 73,
     "metadata": {},
     "output_type": "execute_result"
    }
   ],
   "source": [
    "df.keys()"
   ]
  },
  {
   "cell_type": "code",
   "execution_count": null,
   "metadata": {},
   "outputs": [],
   "source": []
  }
 ],
 "metadata": {
  "interpreter": {
   "hash": "916dbcbb3f70747c44a77c7bcd40155683ae19c65e1c03b4aa3499c5328201f1"
  },
  "kernelspec": {
   "display_name": "Python 3.8.10 64-bit",
   "language": "python",
   "name": "python3"
  },
  "language_info": {
   "codemirror_mode": {
    "name": "ipython",
    "version": 3
   },
   "file_extension": ".py",
   "mimetype": "text/x-python",
   "name": "python",
   "nbconvert_exporter": "python",
   "pygments_lexer": "ipython3",
   "version": "3.8.10"
  },
  "orig_nbformat": 4
 },
 "nbformat": 4,
 "nbformat_minor": 2
}
